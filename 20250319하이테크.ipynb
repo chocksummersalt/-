{
  "nbformat": 4,
  "nbformat_minor": 0,
  "metadata": {
    "colab": {
      "provenance": [],
      "authorship_tag": "ABX9TyMtlZBFhLmf44wxjaZByQJT",
      "include_colab_link": true
    },
    "kernelspec": {
      "name": "python3",
      "display_name": "Python 3"
    },
    "language_info": {
      "name": "python"
    }
  },
  "cells": [
    {
      "cell_type": "markdown",
      "metadata": {
        "id": "view-in-github",
        "colab_type": "text"
      },
      "source": [
        "<a href=\"https://colab.research.google.com/github/chocksummersalt/-/blob/main/20250319%ED%95%98%EC%9D%B4%ED%85%8C%ED%81%AC.ipynb\" target=\"_parent\"><img src=\"https://colab.research.google.com/assets/colab-badge.svg\" alt=\"Open In Colab\"/></a>"
      ]
    },
    {
      "cell_type": "code",
      "execution_count": 2,
      "metadata": {
        "colab": {
          "base_uri": "https://localhost:8080/"
        },
        "id": "W4l-Var29T4V",
        "outputId": "ceb605d9-a896-4852-c915-f62ffebbf8da"
      },
      "outputs": [
        {
          "output_type": "stream",
          "name": "stdout",
          "text": [
            "10\n"
          ]
        }
      ],
      "source": [
        "def outer_function():\n",
        "#b : local\n",
        "  b = 20\n",
        "  def inner_func():\n",
        "    #c: nested local\n",
        "\t  c = 30\n",
        "\t  print(a)\n",
        "\n",
        "  inner_func()\n",
        "\n",
        "#a: global\n",
        "a = 10\n",
        "outer_function()"
      ]
    },
    {
      "cell_type": "code",
      "source": [
        "def outer_function():\n",
        "  #a : local\n",
        "  a = 20\n",
        "  def inner_function():\n",
        "#a: nested local\n",
        "    a = 30\n",
        "    print('a =', a)\n",
        "\n",
        "  inner_function()\n",
        "  print('a =', a)\n",
        "\n",
        "#a: global\n",
        "a = 10\n",
        "outer_function()\n",
        "print('a =', a)"
      ],
      "metadata": {
        "colab": {
          "base_uri": "https://localhost:8080/"
        },
        "id": "xlpoXmDKFIqT",
        "outputId": "aa683ba1-3cb8-413b-e1ba-ad440fbef841"
      },
      "execution_count": 13,
      "outputs": [
        {
          "output_type": "stream",
          "name": "stdout",
          "text": [
            "a = 30\n",
            "a = 20\n",
            "a = 10\n"
          ]
        }
      ]
    },
    {
      "cell_type": "code",
      "source": [
        "def outer_function():\n",
        "  global a\n",
        "  a = 20\n",
        "\n",
        "  def inner_function():\n",
        "    global a\n",
        "    a = 30\n",
        "    print('a =', a)\n",
        "\n",
        "  inner_function()\n",
        "  print('a =', a)\n",
        "\n",
        "a = 10\n",
        "outer_function()\n",
        "print('a =', a)\n",
        "\n",
        "#지역에 있는 글로벌이 외부의 글로벌보다 우선함 제일 안쪽의 지역변수 30이 전역변수가 된거임"
      ],
      "metadata": {
        "colab": {
          "base_uri": "https://localhost:8080/"
        },
        "id": "gqg1Cz10JSpJ",
        "outputId": "4fed742d-a1dd-4a03-ded6-800c74986289"
      },
      "execution_count": 14,
      "outputs": [
        {
          "output_type": "stream",
          "name": "stdout",
          "text": [
            "a = 30\n",
            "a = 30\n",
            "a = 30\n"
          ]
        }
      ]
    },
    {
      "cell_type": "code",
      "source": [
        "num = 3\n",
        "if num > 0:\n",
        "  print(num, \"is 양수\")\n",
        "print(\"항상 출력됨\") #들여쓰기 안되어있으니까\n",
        "\n",
        "num = -1\n",
        "if num > 0:\n",
        "  print(num, \"is 양수\")\n",
        "print(\"이것도 항상 출력됨\") #들여쓰기 안되어있으니까\n",
        "\n",
        "#같은 줄에 같은 이름의 변수선언이 있으면 각각 다른 종속관계를 가짐"
      ],
      "metadata": {
        "colab": {
          "base_uri": "https://localhost:8080/"
        },
        "id": "gCkSK_-GL5U4",
        "outputId": "9540101b-f5da-40e0-b3cc-cdf0781c84fe"
      },
      "execution_count": 15,
      "outputs": [
        {
          "output_type": "stream",
          "name": "stdout",
          "text": [
            "3 is 양수\n",
            "항상 출력됨\n",
            "이것도 항상 출력됨\n"
          ]
        }
      ]
    },
    {
      "cell_type": "code",
      "source": [
        "#range(start, stop, step_size)\n",
        "genre = ['pop', 'rock', 'jazz']\n",
        "\n",
        "for i in range(len(genre)):\n",
        "  print(\"i like:\", genre[i])\n",
        "\n",
        "  #len(genre)하면 아이템에 갯수 반환하고 그러면 for in range(len(genre))했을때 for 문에서 0부터 2까지 값을 루프 시킴\n",
        ""
      ],
      "metadata": {
        "colab": {
          "base_uri": "https://localhost:8080/"
        },
        "id": "fbMG0w-x4FQg",
        "outputId": "1f27191d-0c3d-4a5d-9941-0da0714537fe"
      },
      "execution_count": 2,
      "outputs": [
        {
          "output_type": "stream",
          "name": "stdout",
          "text": [
            "i like: pop\n",
            "i like: rock\n",
            "i like: jazz\n"
          ]
        }
      ]
    },
    {
      "cell_type": "code",
      "source": [
        "n = int(input(\"enter n: \"))#숫자형식의 문자를 다시 숫자로\n",
        "\n",
        "sum = 0 #초기화\n",
        "i = 1\n",
        "\n",
        "while i <= n:\n",
        "  sum = sum + i\n",
        "  i = i+1\n",
        "\n",
        "print(\"the sum is\", sum)\n",
        "\n",
        "\n",
        "\n",
        "  #while True;\n",
        "   # 연산\n",
        "    #if~\n",
        "     # break\"\"\"\n",
        "\n",
        "for i in range(1, n+1):\n",
        "  sum = sum + i\n",
        "\n",
        "print(sum)\n"
      ],
      "metadata": {
        "colab": {
          "base_uri": "https://localhost:8080/"
        },
        "id": "vS6gbFj4CEVW",
        "outputId": "2ecd4b3e-7fc1-485a-b5a5-a32ab68fb7ad"
      },
      "execution_count": 7,
      "outputs": [
        {
          "output_type": "stream",
          "name": "stdout",
          "text": [
            "enter n: 2\n",
            "the sum is 3\n",
            "6\n"
          ]
        }
      ]
    },
    {
      "cell_type": "code",
      "source": [
        "sum = 0\n",
        "for i in range(10):\n",
        "  if i%2 == 0: #그 숫자가 나머지가 0인 2의 배수냐\n",
        "    sum = sum + i\n",
        "\n",
        "for i range(10)\n",
        "\tif i%2 == 1\n",
        "    sum = sum + i"
      ],
      "metadata": {
        "colab": {
          "base_uri": "https://localhost:8080/",
          "height": 110
        },
        "id": "_tZjMbRGHOrd",
        "outputId": "14f7e32f-1673-4b50-fc3a-8fd4ed55bbf5"
      },
      "execution_count": 15,
      "outputs": [
        {
          "output_type": "error",
          "ename": "IndentationError",
          "evalue": "unindent does not match any outer indentation level (<tokenize>, line 8)",
          "traceback": [
            "\u001b[0;36m  File \u001b[0;32m\"<tokenize>\"\u001b[0;36m, line \u001b[0;32m8\u001b[0m\n\u001b[0;31m    sum = sum + i\u001b[0m\n\u001b[0m    ^\u001b[0m\n\u001b[0;31mIndentationError\u001b[0m\u001b[0;31m:\u001b[0m unindent does not match any outer indentation level\n"
          ]
        }
      ]
    }
  ]
}