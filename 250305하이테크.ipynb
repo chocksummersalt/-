{
  "nbformat": 4,
  "nbformat_minor": 0,
  "metadata": {
    "colab": {
      "provenance": [],
      "authorship_tag": "ABX9TyNXlEY1yH+g8yNxxZH5E51Z",
      "include_colab_link": true
    },
    "kernelspec": {
      "name": "python3",
      "display_name": "Python 3"
    },
    "language_info": {
      "name": "python"
    }
  },
  "cells": [
    {
      "cell_type": "markdown",
      "metadata": {
        "id": "view-in-github",
        "colab_type": "text"
      },
      "source": [
        "<a href=\"https://colab.research.google.com/github/chocksummersalt/-/blob/main/250305%ED%95%98%EC%9D%B4%ED%85%8C%ED%81%AC.ipynb\" target=\"_parent\"><img src=\"https://colab.research.google.com/assets/colab-badge.svg\" alt=\"Open In Colab\"/></a>"
      ]
    },
    {
      "cell_type": "code",
      "source": [],
      "metadata": {
        "id": "QiuqehXD5Ppj"
      },
      "execution_count": 3,
      "outputs": []
    },
    {
      "cell_type": "code",
      "execution_count": 6,
      "metadata": {
        "id": "fZriB09h1SrP",
        "colab": {
          "base_uri": "https://localhost:8080/"
        },
        "outputId": "cf6c5034-a4a6-408c-dc76-e43357eca730"
      },
      "outputs": [
        {
          "output_type": "stream",
          "name": "stdout",
          "text": [
            "20\n"
          ]
        }
      ],
      "source": [
        "a = 10\n",
        "b = 10\n",
        "c = a + b\n",
        "print(c)"
      ]
    },
    {
      "cell_type": "markdown",
      "source": [
        "markdown"
      ],
      "metadata": {
        "id": "dQCQPr4w5erj"
      }
    },
    {
      "cell_type": "code",
      "source": [
        "a = [\"A\", \"B+\",\"B\", 20, 25, 30]\n",
        "print(\"a[2] =\", a[2])\n",
        "b = [53, 42, 32]\n",
        "\n",
        "a[0] = 100; print(a)\n",
        "\n",
        "d = [a, b]\n",
        "\n",
        "print(d[0][2])"
      ],
      "metadata": {
        "id": "BHntqDqC5UD8",
        "colab": {
          "base_uri": "https://localhost:8080/"
        },
        "outputId": "4fe3730e-3b33-4b81-f8c1-54f805544265"
      },
      "execution_count": null,
      "outputs": [
        {
          "output_type": "stream",
          "name": "stdout",
          "text": [
            "a[2] = B\n",
            "[100, 'B+', 'B', 20, 25, 30]\n",
            "B\n"
          ]
        }
      ]
    },
    {
      "cell_type": "code",
      "source": [
        "tu_ex = (\"a\", [1, 2, 3], 132)\n",
        "print(tu_ex)\n",
        "tu_ex[1][0] = 10\n",
        "tu_ex"
      ],
      "metadata": {
        "colab": {
          "base_uri": "https://localhost:8080/"
        },
        "id": "hclTqvAzTudL",
        "outputId": "f5a21e36-8705-4286-f6ca-abed1f396a66"
      },
      "execution_count": null,
      "outputs": [
        {
          "output_type": "stream",
          "name": "stdout",
          "text": [
            "('a', [1, 2, 3], 132)\n"
          ]
        },
        {
          "output_type": "execute_result",
          "data": {
            "text/plain": [
              "('a', [10, 2, 3], 132)"
            ]
          },
          "metadata": {},
          "execution_count": 8
        }
      ]
    },
    {
      "cell_type": "code",
      "source": [
        "def double(num):\n",
        "  \"\"\"function to double the value\"\"\"\n",
        "  return 2*num\n",
        "print(double.__doc__)"
      ],
      "metadata": {
        "id": "HDp08nJ6fF1a",
        "colab": {
          "base_uri": "https://localhost:8080/"
        },
        "outputId": "14ed648c-28f7-464e-9bc9-6be87c87f259"
      },
      "execution_count": null,
      "outputs": [
        {
          "output_type": "stream",
          "name": "stdout",
          "text": [
            "function to double the value\n"
          ]
        }
      ]
    },
    {
      "cell_type": "code",
      "source": [
        "a = [1, \"a\", [1, 2, 3]]\n",
        "a[0] = 10\n",
        "print(a)"
      ],
      "metadata": {
        "colab": {
          "base_uri": "https://localhost:8080/"
        },
        "id": "7Q4gkSePQFNg",
        "outputId": "de841dd4-93ce-40dd-a4e0-ed8fcfc25ee5"
      },
      "execution_count": null,
      "outputs": [
        {
          "output_type": "stream",
          "name": "stdout",
          "text": [
            "[10, 'a', [1, 2, 3]]\n"
          ]
        }
      ]
    },
    {
      "cell_type": "code",
      "source": [
        "b = (1, \"a\", [1, 2, 3])\n",
        "b[2][0] = [4, 5, 6]\n",
        "print(b)"
      ],
      "metadata": {
        "colab": {
          "base_uri": "https://localhost:8080/"
        },
        "id": "p4h6xULyCXTC",
        "outputId": "3924555b-087f-4955-a193-34a536a081cc"
      },
      "execution_count": null,
      "outputs": [
        {
          "output_type": "stream",
          "name": "stdout",
          "text": [
            "(1, 'a', [[4, 5, 6], 2, 3])\n"
          ]
        }
      ]
    },
    {
      "cell_type": "code",
      "source": [
        "c = (0000, [])\n",
        "c"
      ],
      "metadata": {
        "id": "P1_2a2_HEonw"
      },
      "execution_count": null,
      "outputs": []
    },
    {
      "cell_type": "code",
      "source": [
        "str = {1, 2, 3}\n",
        "list_enumerate = dict(enumerate(str))\n",
        "print('list (enumerate(str) =', list_enumerate)"
      ],
      "metadata": {
        "colab": {
          "base_uri": "https://localhost:8080/"
        },
        "id": "5rkYxmhhF2cA",
        "outputId": "fa9c78e8-4e2b-46d0-ddf4-8769673ffb85"
      },
      "execution_count": null,
      "outputs": [
        {
          "output_type": "stream",
          "name": "stdout",
          "text": [
            "list (enumerate(str) = {0: 1, 1: 2, 2: 3}\n"
          ]
        }
      ]
    },
    {
      "cell_type": "code",
      "source": [
        "a = {5, 2, 3, 1, 4}\n",
        "\n",
        "print(\"a = \", a)\n",
        "\n",
        "print(type(a))"
      ],
      "metadata": {
        "colab": {
          "base_uri": "https://localhost:8080/"
        },
        "id": "-3hQ_bOI_-zm",
        "outputId": "80ee3cbc-3b0d-4561-beee-a3a4a796b5bb"
      },
      "execution_count": 7,
      "outputs": [
        {
          "output_type": "stream",
          "name": "stdout",
          "text": [
            "a =  {1, 2, 3, 4, 5}\n",
            "<class 'set'>\n"
          ]
        }
      ]
    },
    {
      "cell_type": "code",
      "source": [
        "print(1, 2, 3, 4, sep='*')\n",
        "print(1, 2, 3, 4, sep='#', end='&')\n",
        "\n"
      ],
      "metadata": {
        "colab": {
          "base_uri": "https://localhost:8080/"
        },
        "id": "8zUoSs6n-Is8",
        "outputId": "80642a36-cf2f-4fd4-e815-3a64a69cf135"
      },
      "execution_count": 12,
      "outputs": [
        {
          "output_type": "stream",
          "name": "stdout",
          "text": [
            "1*2*3*4\n",
            "1#2#3#4&the value of x is 5 and y is 10\n"
          ]
        }
      ]
    },
    {
      "cell_type": "code",
      "source": [
        "x = 5; y = 10\n",
        "print('the value of x is {} and y is {}'.format(x,y))"
      ],
      "metadata": {
        "colab": {
          "base_uri": "https://localhost:8080/"
        },
        "id": "woutsQi9GHDh",
        "outputId": "b8566f09-f6d0-4900-d66d-9afc0dbb41e0"
      },
      "execution_count": 13,
      "outputs": [
        {
          "output_type": "stream",
          "name": "stdout",
          "text": [
            "the value of x is 5 and y is 10\n"
          ]
        }
      ]
    },
    {
      "cell_type": "code",
      "source": [
        "str = input('키보드를 통해 입력해주세요: ')\n",
        "print(str)\n",
        "print(type(str))"
      ],
      "metadata": {
        "colab": {
          "base_uri": "https://localhost:8080/"
        },
        "id": "oASwDMR1HSAh",
        "outputId": "879d6f91-9999-419d-e455-4ac9b6068ff0"
      },
      "execution_count": 17,
      "outputs": [
        {
          "output_type": "stream",
          "name": "stdout",
          "text": [
            "키보드를 통해 입력해주세요: 5\n",
            "5\n",
            "<class 'str'>\n"
          ]
        }
      ]
    },
    {
      "cell_type": "code",
      "source": [
        "num = int(input('키보드를 통해 입력해주세요: '))\n",
        "print(num)\n",
        "print(type(num))"
      ],
      "metadata": {
        "colab": {
          "base_uri": "https://localhost:8080/"
        },
        "id": "5Tc-oGQfIGtg",
        "outputId": "e934df67-6543-4344-cff9-eb06c1d9a40b"
      },
      "execution_count": 20,
      "outputs": [
        {
          "output_type": "stream",
          "name": "stdout",
          "text": [
            "키보드를 통해 입력해주세요: 22\n",
            "22\n",
            "<class 'int'>\n"
          ]
        }
      ]
    }
  ]
}