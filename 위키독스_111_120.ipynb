{
  "nbformat": 4,
  "nbformat_minor": 0,
  "metadata": {
    "colab": {
      "provenance": [],
      "authorship_tag": "ABX9TyPqqDXOMddoO9bazoVsDzPJ",
      "include_colab_link": true
    },
    "kernelspec": {
      "name": "python3",
      "display_name": "Python 3"
    },
    "language_info": {
      "name": "python"
    }
  },
  "cells": [
    {
      "cell_type": "markdown",
      "metadata": {
        "id": "view-in-github",
        "colab_type": "text"
      },
      "source": [
        "<a href=\"https://colab.research.google.com/github/chocksummersalt/-/blob/main/%EC%9C%84%ED%82%A4%EB%8F%85%EC%8A%A4_111_120.ipynb\" target=\"_parent\"><img src=\"https://colab.research.google.com/assets/colab-badge.svg\" alt=\"Open In Colab\"/></a>"
      ]
    },
    {
      "cell_type": "code",
      "execution_count": null,
      "metadata": {
        "colab": {
          "base_uri": "https://localhost:8080/"
        },
        "id": "d4STBUt_DsM_",
        "outputId": "c9fb399f-484c-4e71-bd3a-936e2b89c908"
      },
      "outputs": [
        {
          "output_type": "stream",
          "name": "stdout",
          "text": [
            "입력dd\n",
            "dddd\n"
          ]
        }
      ],
      "source": [
        "#111 입력받은 문자열을 두 번 출력하라.\n",
        "#print(input()*2)\n",
        "user = input(\"입력\")\n",
        "print(user*2)#정석\n",
        "#배운 점 : 상황에 따라 코드를 짧게 할 수 있구나"
      ]
    },
    {
      "cell_type": "code",
      "source": [
        "#112 숫자를 입력받고 거기에 10을 더해 출력하기\n",
        "#user1 = input(int) 기본적으로 인풋은 문자열을 반환해서 밖에다 int를 씌워야함\n",
        "user1 = int(input())\n",
        "print(user1 + 10)"
      ],
      "metadata": {
        "colab": {
          "base_uri": "https://localhost:8080/"
        },
        "id": "BMkvh9_6DuQX",
        "outputId": "9e387fc2-9112-4974-8ad0-768b74db5bd0"
      },
      "execution_count": null,
      "outputs": [
        {
          "output_type": "stream",
          "name": "stdout",
          "text": [
            "30\n",
            "40\n"
          ]
        }
      ]
    },
    {
      "cell_type": "code",
      "source": [
        "#113 하나의 숫자를 입력 받고 짝수/홀수를 판별하라.\n",
        "user2 = int(input())\n",
        "if (user2 % 2) == 0:\n",
        "    print(\"짝수\")\n",
        "else:\n",
        "    print(\"홀수\")\n",
        "#배운 점 : 꼭 if와 else 끝에는 :콜럼을 붙여주자"
      ],
      "metadata": {
        "colab": {
          "base_uri": "https://localhost:8080/"
        },
        "id": "k_ZrIfvVDuzn",
        "outputId": "82ec9a83-70f1-485e-a8a2-ccf21fdf019d"
      },
      "execution_count": null,
      "outputs": [
        {
          "output_type": "stream",
          "name": "stdout",
          "text": [
            "3\n",
            "홀수\n"
          ]
        }
      ]
    },
    {
      "cell_type": "code",
      "source": [
        "#114 입력받은 값에 20을 더한 값을 출력하라 단 계산값이 255를 초과하면 255를 출력해라\n",
        "user3 = int(input())\n",
        "if (user3 + 20) < 255:\n",
        "    print(user3 + 20)\n",
        "else:\n",
        "    print(255)"
      ],
      "metadata": {
        "colab": {
          "base_uri": "https://localhost:8080/"
        },
        "id": "hrp14xlDDvaf",
        "outputId": "10c7527f-7805-4ffa-a06e-ef97d03c277b"
      },
      "execution_count": null,
      "outputs": [
        {
          "output_type": "stream",
          "name": "stdout",
          "text": [
            "10\n",
            "30\n"
          ]
        }
      ]
    },
    {
      "cell_type": "code",
      "source": [
        "#115 입력받은 값에 20을 뺀 후 출력하라 출력값의 범위는 0~255이다. 보다 작으면 0, 크면 255\n",
        "user4 = int(input())\n",
        "if (user4 - 40) < 0:\n",
        "    print(0)\n",
        "elif(user4 - 40) > 255:\n",
        "    print(255)\n",
        "else:\n",
        "    print(user4 - 40)"
      ],
      "metadata": {
        "colab": {
          "base_uri": "https://localhost:8080/"
        },
        "id": "y9UZS1L3Dv3_",
        "outputId": "3064f4a6-199b-4c30-b368-3b2154fc5757"
      },
      "execution_count": null,
      "outputs": [
        {
          "output_type": "stream",
          "name": "stdout",
          "text": [
            "56\n",
            "16\n"
          ]
        }
      ]
    },
    {
      "cell_type": "code",
      "source": [
        "#116 입력받은 시간이 정각인지 판별하라.\n",
        "user5 = input(\"시간을 입력하세요 :\")\n",
        "if user5[-2:] == \"00\":\n",
        "    print(\"정각 입니다.\")\n",
        "else:\n",
        "    print(\"정각이 아닙니다\")\n",
        "#배운 점 : 시간과 같은 건 문자열로 표현할 수 있다."
      ],
      "metadata": {
        "id": "qJbRTEJ7Dwcv",
        "colab": {
          "base_uri": "https://localhost:8080/"
        },
        "outputId": "384efead-7ee0-40a8-bdc5-24f518c8b676"
      },
      "execution_count": null,
      "outputs": [
        {
          "output_type": "stream",
          "name": "stdout",
          "text": [
            "시간을 입력하세요 :123\n",
            "정각이 아닙니다\n"
          ]
        }
      ]
    },
    {
      "cell_type": "code",
      "source": [
        "#117"
      ],
      "metadata": {
        "id": "L-o_XNWCDxFP"
      },
      "execution_count": null,
      "outputs": []
    },
    {
      "cell_type": "code",
      "source": [
        "#118"
      ],
      "metadata": {
        "id": "XqDSWkfZDxs3"
      },
      "execution_count": null,
      "outputs": []
    },
    {
      "cell_type": "code",
      "source": [
        "#119"
      ],
      "metadata": {
        "id": "JRMcwXdODyYR"
      },
      "execution_count": null,
      "outputs": []
    },
    {
      "cell_type": "code",
      "source": [
        "#120"
      ],
      "metadata": {
        "id": "cY9FPDl3DzAv"
      },
      "execution_count": null,
      "outputs": []
    }
  ]
}