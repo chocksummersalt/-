{
  "nbformat": 4,
  "nbformat_minor": 0,
  "metadata": {
    "colab": {
      "provenance": [],
      "authorship_tag": "ABX9TyMepIV+bZ6tImgRo2BbJRpG",
      "include_colab_link": true
    },
    "kernelspec": {
      "name": "python3",
      "display_name": "Python 3"
    },
    "language_info": {
      "name": "python"
    }
  },
  "cells": [
    {
      "cell_type": "markdown",
      "metadata": {
        "id": "view-in-github",
        "colab_type": "text"
      },
      "source": [
        "<a href=\"https://colab.research.google.com/github/chocksummersalt/-/blob/main/%EC%9C%84%ED%82%A4%EB%8F%85%EC%8A%A4_51_60.ipynb\" target=\"_parent\"><img src=\"https://colab.research.google.com/assets/colab-badge.svg\" alt=\"Open In Colab\"/></a>"
      ]
    },
    {
      "cell_type": "code",
      "execution_count": null,
      "metadata": {
        "colab": {
          "base_uri": "https://localhost:8080/"
        },
        "id": "MBCB73wvmUgz",
        "outputId": "515d24ed-e2c2-4e10-f1f8-7c0fa6b463a6"
      },
      "outputs": [
        {
          "output_type": "stream",
          "name": "stdout",
          "text": [
            "['닥터 스트레인지', '스플릿', '럭키']\n"
          ]
        }
      ],
      "source": [
        "#51. 리스트 생성\n",
        "#답\n",
        "movie_rank = [\"닥터 스트레인지\", \"스플릿\", \"럭키\"]\n",
        "print(movie_rank)\n",
        "#배운 점: 리스트는 []를 사용하여 여러 개의 문자열을 저장할 수 있다."
      ]
    },
    {
      "cell_type": "code",
      "source": [
        "#52. 리스트에 원소 추가\n",
        "movie_rank.append(\"배트맨\")\n",
        "print(movie_rank)\n",
        "#배운 점: append()를 사용하면 리스트 끝에 새로운 요소를 추가할 수 있다."
      ],
      "metadata": {
        "colab": {
          "base_uri": "https://localhost:8080/"
        },
        "id": "E7-VV-5_mmY-",
        "outputId": "d2140c41-352e-4408-baed-e55efe0800f8"
      },
      "execution_count": null,
      "outputs": [
        {
          "output_type": "stream",
          "name": "stdout",
          "text": [
            "['닥터 스트레인지', '스플릿', '럭키', '배트맨']\n"
          ]
        }
      ]
    },
    {
      "cell_type": "code",
      "source": [
        "#53. 리스트에 특정 위치에 원소 삽입\n",
        "movie_rank.insert(1, \"슈퍼맨\")\n",
        "print(movie_rank)\n",
        "#배운 점: insert(index, value)를 사용하면 특정 위치에 값을 삽입할 수 있다.#"
      ],
      "metadata": {
        "colab": {
          "base_uri": "https://localhost:8080/"
        },
        "id": "b-o4DaOtmuwm",
        "outputId": "4942c3de-6bcf-498f-8e4c-aa2f221a45c6"
      },
      "execution_count": null,
      "outputs": [
        {
          "output_type": "stream",
          "name": "stdout",
          "text": [
            "['닥터 스트레인지', '슈퍼맨', '스플릿', '럭키', '배트맨']\n"
          ]
        }
      ]
    },
    {
      "cell_type": "code",
      "source": [
        "#54. 리스트에서 원소 삭제\n",
        "movie_rank.remove(\"럭키\")\n",
        "print(movie_rank)\n",
        "#배운 점: remove(value)를 사용하여 특정 값을 삭제할 수 있다."
      ],
      "metadata": {
        "id": "YM8_xlYTm07-"
      },
      "execution_count": null,
      "outputs": []
    },
    {
      "cell_type": "code",
      "source": [
        "#55. 리스트에서 인덱스를 사용해 원소 삭제\n",
        "del movie_rank[2]\n",
        "print(movie_rank)\n",
        "#배운 점: del 키워드를 사용하여 특정 위치의 요소를 삭제할 수 있다."
      ],
      "metadata": {
        "id": "z2iLSZRfoVVu"
      },
      "execution_count": null,
      "outputs": []
    },
    {
      "cell_type": "code",
      "source": [
        "#56.lang1과 lang2 리스트가 있을 때 lang1과 lang2의 원소를 모두 갖고 있는 langs 리스트를 만들어라.\n",
        "lang1 = [\"c\", \"c++\", \"JAVA\"]\n",
        "lang2 = [\"python\", \"go\", \"c#\"]\n",
        "langs = lang1 + lang2\n",
        "print(langs)\n",
        "# 배운점 : 리스트끼리 더하면 더한 순서대로 합해진다."
      ],
      "metadata": {
        "colab": {
          "base_uri": "https://localhost:8080/"
        },
        "id": "9xKTZxfGodxN",
        "outputId": "04a2a3c1-fc29-4462-9bcf-998fefe331ac"
      },
      "execution_count": null,
      "outputs": [
        {
          "output_type": "stream",
          "name": "stdout",
          "text": [
            "['c', 'c++', 'JAVA', 'python', 'go', 'c#']\n"
          ]
        }
      ]
    },
    {
      "cell_type": "code",
      "source": [
        "#57. 다음 리스트에서 최댓값과 최솟값을 출력하라. (힌트: min(), max() 함수 사용)\n",
        "nums = [1, 2, 3, 4, 5, 6, 7]\n",
        "#e = nums.max()\n",
        "#f = nums.min()\n",
        "e = max(nums)\n",
        "f = min(nums)\n",
        "print(e, f)\n",
        "#배운 점:이건 메서드 호출 방식대로 할 수 없음."
      ],
      "metadata": {
        "colab": {
          "base_uri": "https://localhost:8080/"
        },
        "id": "YlWFkC4jpVfk",
        "outputId": "a20e8976-8910-417e-d6d6-9896feb7967e"
      },
      "execution_count": null,
      "outputs": [
        {
          "output_type": "stream",
          "name": "stdout",
          "text": [
            "7 1\n"
          ]
        }
      ]
    },
    {
      "cell_type": "code",
      "source": [
        "#58. 다음 리스트의 합을 출력하라.\n",
        "nums1 = [1, 2, 3, 4, 5]\n",
        "g = sum(nums1)\n",
        "print(g)\n",
        "#배운 점 : sum()도 내장함수처럼 사용할 수 있다. 리스트의 내용들을 더해준다."
      ],
      "metadata": {
        "colab": {
          "base_uri": "https://localhost:8080/"
        },
        "id": "5UC8Tv_RpRvt",
        "outputId": "9504e69b-ba3a-4f72-fd2b-7dcf13da3c2d"
      },
      "execution_count": null,
      "outputs": [
        {
          "output_type": "stream",
          "name": "stdout",
          "text": [
            "15\n"
          ]
        }
      ]
    },
    {
      "cell_type": "code",
      "source": [
        "#59 다음 리스트에 저장된 데이터의 개수를 화면에 구하라.\n",
        "cook = [\"피자\", \"김밥\", \"만두\", \"양념치킨\", \"족발\", \"피자\", \"김치만두\", \"쫄면\", \"소시지\", \"라면\", \"팥빙수\", \"김치전\"]\n",
        "h = len(cook)\n",
        "print(h)\n",
        "#배운 점 : len()은 내부적으로 요소를 하나씩 세어서 개수를 반환하는 함수다."
      ],
      "metadata": {
        "colab": {
          "base_uri": "https://localhost:8080/"
        },
        "id": "KFOk_7yAqiRN",
        "outputId": "cd8b4697-9f72-46fb-d160-0a953ee07447"
      },
      "execution_count": null,
      "outputs": [
        {
          "output_type": "stream",
          "name": "stdout",
          "text": [
            "12\n"
          ]
        }
      ]
    },
    {
      "cell_type": "code",
      "source": [
        "#60 다음 리스트의 평균을 출력하라.\n",
        "average = sum(nums1) / len(nums1)\n",
        "print(average)\n",
        "#배운 점 : 평균을 바로 내주는 내장함수는 없다."
      ],
      "metadata": {
        "colab": {
          "base_uri": "https://localhost:8080/"
        },
        "id": "paQsF_q2sWTj",
        "outputId": "42f68f42-6c19-45f9-9773-177b6545a937"
      },
      "execution_count": null,
      "outputs": [
        {
          "output_type": "stream",
          "name": "stdout",
          "text": [
            "3.0\n"
          ]
        }
      ]
    }
  ]
}